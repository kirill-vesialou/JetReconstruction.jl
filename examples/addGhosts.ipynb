{
 "cells": [
  {
   "cell_type": "code",
   "execution_count": 2,
   "metadata": {},
   "outputs": [],
   "source": [
    "using BenchmarkTools"
   ]
  },
  {
   "cell_type": "code",
   "execution_count": 3,
   "metadata": {},
   "outputs": [
    {
     "name": "stderr",
     "output_type": "stream",
     "text": [
      "\u001b[32m\u001b[1m  No Changes\u001b[22m\u001b[39m to `~/.julia/environments/v1.11/Project.toml`\n",
      "\u001b[32m\u001b[1m  No Changes\u001b[22m\u001b[39m to `~/.julia/environments/v1.11/Manifest.toml`\n",
      "\u001b[32m\u001b[1m   Resolving\u001b[22m\u001b[39m package versions...\n",
      "\u001b[32m\u001b[1m  No Changes\u001b[22m\u001b[39m to `~/.julia/environments/v1.11/Project.toml`\n",
      "\u001b[32m\u001b[1m  No Changes\u001b[22m\u001b[39m to `~/.julia/environments/v1.11/Manifest.toml`\n"
     ]
    },
    {
     "name": "stdout",
     "output_type": "stream",
     "text": [
      "\u001b[32m\u001b[1mStatus\u001b[22m\u001b[39m `~/.julia/environments/v1.11/Project.toml`\n",
      "  \u001b[90m[6e4b80f9] \u001b[39mBenchmarkTools v1.6.0\n",
      "\u001b[32m⌃\u001b[39m \u001b[90m[7073ff75] \u001b[39mIJulia v1.28.0\n",
      "  \u001b[90m[44e8cb2c] \u001b[39mJetReconstruction v0.5.0-dev `~/Desktop/jetReconstruction/JetReconstruction.jl`\n",
      "  \u001b[90m[44cfe95a] \u001b[39mPkg v1.11.0\n",
      "\u001b[36m\u001b[1mInfo\u001b[22m\u001b[39m Packages marked with \u001b[32m⌃\u001b[39m have new versions available and may be upgradable.\n"
     ]
    }
   ],
   "source": [
    "using Pkg\n",
    "Pkg.resolve()\n",
    "Pkg.develop(Pkg.PackageSpec(path = \"/Users/kirillvesialou/Desktop/jetReconstruction/JetReconstruction.jl\"))\n",
    "using JetReconstruction\n",
    "Pkg.status()"
   ]
  },
  {
   "cell_type": "code",
   "execution_count": 7,
   "metadata": {},
   "outputs": [
    {
     "data": {
      "text/plain": [
       "add_ghosts1 (generic function with 1 method)"
      ]
     },
     "metadata": {},
     "output_type": "display_data"
    }
   ],
   "source": [
    "function add_ghosts1(event::Vector{PseudoJet}, resolution::Int)\n",
    "\tRapidityStep = 6.28 / resolution\n",
    "\tPhiStep = 10 / resolution\n",
    "\tfor i in 0:(resolution - 1)\n",
    "\t\tfor j in 0:(resolution - 1)\n",
    "\t\t\tRap =  (i + (rand() - 0.5)) * RapidityStep\n",
    "\t\t\tPhi = (j + (rand() - 0.5)) * PhiStep\n",
    "            ghost = PseudoJet(pt = 1.0f-45, rap = Rap, phi = Phi, m = 0)\n",
    "            push!(event, ghost)\n",
    "        end\n",
    "    end\n",
    "\treturn event\n",
    "end"
   ]
  },
  {
   "cell_type": "code",
   "execution_count": 7,
   "metadata": {},
   "outputs": [
    {
     "data": {
      "text/plain": [
       "PseudoJet(px: 0.4989557335681351 py: 0.9803280960675791 pz: 1.469212217136595 E: 1.8353704092044822 cluster_hist_index: 0)"
      ]
     },
     "metadata": {},
     "output_type": "display_data"
    }
   ],
   "source": [
    "jet1 = PseudoJet(pt = 1.1, rap = 1.1, phi = 1.1)"
   ]
  },
  {
   "cell_type": "code",
   "execution_count": 8,
   "metadata": {},
   "outputs": [
    {
     "data": {
      "text/plain": [
       "10001-element Vector{PseudoJet}:\n",
       " PseudoJet(px: 0.8509865563896788 py: -2.8767728239894153 pz: 183.06632985935454 E: 183.1891949001742 cluster_hist_index: 0)\n",
       " PseudoJet(px: 1.3998070606540532e-45 py: -6.463419421753941e-47 pz: -3.32450567920983e-47 E: 1.4016927694470713e-45 cluster_hist_index: 0)\n",
       " PseudoJet(px: 1.396239209941528e-45 py: 1.1896829300678513e-46 pz: 3.818554174984449e-47 E: 1.4018186479419583e-45 cluster_hist_index: 0)\n",
       " PseudoJet(px: 1.3757514245733657e-45 py: 2.663557844377436e-46 pz: -3.0215725253408585e-47 E: 1.4016241922040586e-45 cluster_hist_index: 0)\n",
       " PseudoJet(px: 1.3532179091899364e-45 py: 3.639212502268968e-46 pz: -3.585008485412906e-47 E: 1.401756974194578e-45 cluster_hist_index: 0)\n",
       " PseudoJet(px: 1.2954184143159795e-45 py: 5.3434868575693514e-46 pz: 7.683077408340429e-48 E: 1.4013195266596242e-45 cluster_hist_index: 0)\n",
       " PseudoJet(px: 1.231547228592022e-45 py: 6.685273441426315e-46 pz: -1.9840785460013155e-47 E: 1.4014389187141766e-45 cluster_hist_index: 0)\n",
       " PseudoJet(px: 1.169172718929469e-45 py: 7.724458165011728e-46 pz: -2.3148723085229884e-47 E: 1.4014896537254804e-45 cluster_hist_index: 0)\n",
       " PseudoJet(px: 1.0894849480439862e-45 py: 8.812831180186554e-46 pz: 3.025233087402657e-47 E: 1.4016249818130392e-45 cluster_hist_index: 0)\n",
       " PseudoJet(px: 1.0049422825314231e-45 py: 9.765901877961011e-46 pz: 1.2511804404804927e-47 E: 1.4013543204231238e-45 cluster_hist_index: 0)\n",
       " ⋮\n",
       " PseudoJet(px: -1.3244652746359172e-45 py: 4.57634267076554e-46 pz: 3.5460349637829283e-43 E: 3.5460626514642415e-43 cluster_hist_index: 0)\n",
       " PseudoJet(px: -1.3758775004733279e-45 py: 2.657037632596841e-46 pz: 3.5080652504824073e-43 E: 3.5080932378402957e-43 cluster_hist_index: 0)\n",
       " PseudoJet(px: -1.384367570311379e-45 py: 2.1717231957424893e-46 pz: 3.457972832476495e-43 E: 3.4580012252577534e-43 cluster_hist_index: 0)\n",
       " PseudoJet(px: -1.398080174798322e-45 py: 9.491686338572474e-47 pz: 3.605529219077313e-43 E: 3.6055564498921485e-43 cluster_hist_index: 0)\n",
       " PseudoJet(px: -1.3940502922150853e-45 py: -1.4234173279163736e-46 pz: 3.5587509271963826e-43 E: 3.558778515946128e-43 cluster_hist_index: 0)\n",
       " PseudoJet(px: -1.3849074182859451e-45 py: -2.1370266469009918e-46 pz: 3.566863035701573e-43 E: 3.5668905617067722e-43 cluster_hist_index: 0)\n",
       " PseudoJet(px: -1.3424542455923003e-45 py: -4.018133703727372e-46 pz: 3.535354574615484e-43 E: 3.5353823459412763e-43 cluster_hist_index: 0)\n",
       " PseudoJet(px: -1.3029660059289308e-45 py: -5.1567138132021645e-46 pz: 3.5061867590743162e-43 E: 3.506214761426726e-43 cluster_hist_index: 0)\n",
       " PseudoJet(px: -1.2423915965632706e-45 py: -6.481516079653419e-46 pz: 3.4773240621710958e-43 E: 3.477352296948456e-43 cluster_hist_index: 0)"
      ]
     },
     "metadata": {},
     "output_type": "display_data"
    }
   ],
   "source": [
    "event = Vector{PseudoJet}()\n",
    "jet1 = PseudoJet(pt = 3, rap = 4, phi = 5, m = 6)\n",
    "push!(event, jet1)\n",
    "\n",
    "add_ghosts1(event, 100)"
   ]
  },
  {
   "cell_type": "code",
   "execution_count": 9,
   "metadata": {},
   "outputs": [
    {
     "data": {
      "text/plain": [
       "BenchmarkTools.Trial: 1353 samples with 10 evaluations per sample.\n",
       " Range \u001b[90m(\u001b[39m\u001b[36m\u001b[1mmin\u001b[22m\u001b[39m … \u001b[35mmax\u001b[39m\u001b[90m):  \u001b[39m\u001b[36m\u001b[1m162.079 μs\u001b[22m\u001b[39m … \u001b[35m89.023 ms\u001b[39m  \u001b[90m┊\u001b[39m GC \u001b[90m(\u001b[39mmin … max\u001b[90m): \u001b[39m0.00% … 9.75%\n",
       " Time  \u001b[90m(\u001b[39m\u001b[34m\u001b[1mmedian\u001b[22m\u001b[39m\u001b[90m):     \u001b[39m\u001b[34m\u001b[1m178.992 μs              \u001b[22m\u001b[39m\u001b[90m┊\u001b[39m GC \u001b[90m(\u001b[39mmedian\u001b[90m):    \u001b[39m0.00%\n",
       " Time  \u001b[90m(\u001b[39m\u001b[32m\u001b[1mmean\u001b[22m\u001b[39m ± \u001b[32mσ\u001b[39m\u001b[90m):   \u001b[39m\u001b[32m\u001b[1m369.504 μs\u001b[22m\u001b[39m ± \u001b[32m 3.264 ms\u001b[39m  \u001b[90m┊\u001b[39m GC \u001b[90m(\u001b[39mmean ± σ\u001b[90m):  \u001b[39m5.17% ± 1.02%\n",
       "\n",
       "  \u001b[39m \u001b[39m \u001b[39m \u001b[39m \u001b[39m \u001b[39m \u001b[39m \u001b[39m \u001b[39m \u001b[39m \u001b[39m \u001b[39m \u001b[39m \u001b[39m \u001b[39m \u001b[39m \u001b[39m▃\u001b[39m▆\u001b[39m█\u001b[39m▇\u001b[39m▆\u001b[39m█\u001b[39m▅\u001b[39m▅\u001b[34m▆\u001b[39m\u001b[39m▄\u001b[39m▂\u001b[39m▂\u001b[39m▄\u001b[39m \u001b[39m▂\u001b[39m \u001b[39m \u001b[39m \u001b[39m \u001b[39m \u001b[39m \u001b[39m \u001b[39m \u001b[39m \u001b[39m \u001b[39m \u001b[39m \u001b[39m \u001b[39m \u001b[39m \u001b[39m \u001b[39m \u001b[39m \u001b[39m \u001b[39m \u001b[39m \u001b[39m \u001b[39m \u001b[39m \u001b[39m \u001b[39m \u001b[39m \u001b[39m \u001b[39m \u001b[39m \u001b[39m \n",
       "  \u001b[39m▂\u001b[39m▁\u001b[39m▂\u001b[39m▂\u001b[39m▂\u001b[39m▂\u001b[39m▂\u001b[39m▃\u001b[39m▂\u001b[39m▂\u001b[39m▂\u001b[39m▁\u001b[39m▁\u001b[39m▂\u001b[39m▃\u001b[39m▆\u001b[39m█\u001b[39m█\u001b[39m█\u001b[39m█\u001b[39m█\u001b[39m█\u001b[39m█\u001b[39m█\u001b[34m█\u001b[39m\u001b[39m█\u001b[39m█\u001b[39m█\u001b[39m█\u001b[39m▇\u001b[39m█\u001b[39m█\u001b[39m▆\u001b[39m▆\u001b[39m▆\u001b[39m▅\u001b[39m▄\u001b[39m▄\u001b[39m▃\u001b[39m▃\u001b[39m▃\u001b[39m▃\u001b[39m▃\u001b[39m▃\u001b[39m▂\u001b[39m▂\u001b[39m▂\u001b[39m▂\u001b[39m▂\u001b[39m▂\u001b[39m▂\u001b[39m▂\u001b[39m▁\u001b[39m▂\u001b[39m▂\u001b[39m▁\u001b[39m▂\u001b[39m▂\u001b[39m▁\u001b[39m▂\u001b[39m \u001b[39m▄\n",
       "  162 μs\u001b[90m          Histogram: frequency by time\u001b[39m          205 μs \u001b[0m\u001b[1m<\u001b[22m\n",
       "\n",
       " Memory estimate\u001b[90m: \u001b[39m\u001b[33m0 bytes\u001b[39m, allocs estimate\u001b[90m: \u001b[39m\u001b[33m0\u001b[39m."
      ]
     },
     "metadata": {},
     "output_type": "display_data"
    }
   ],
   "source": [
    "@benchmark add_ghosts1($event, 100) samples = 10000 evals = 10"
   ]
  },
  {
   "cell_type": "code",
   "execution_count": 7,
   "metadata": {},
   "outputs": [
    {
     "data": {
      "text/plain": [
       "add_ghosts2 (generic function with 1 method)"
      ]
     },
     "metadata": {},
     "output_type": "display_data"
    }
   ],
   "source": [
    "function add_ghosts2(event::Vector{PseudoJet}, resolution::Int)\n",
    "\tRapidityStep = 6.28 / resolution\n",
    "\tPhiStep = 10 / resolution\n",
    "    rap_v = collect(0:(resolution - 1))\n",
    "    rap_rand = rand(resolution) .- 0.5\n",
    "    rap_v .+= rap_rand\n",
    "    rap_v .* RapidityStep\n",
    "    phi_v = collect(0:(resolution - 1))\n",
    "    phi_rand = rand(resolution) .- 0.5\n",
    "    phi_v .+= phi_rand\n",
    "    phi_v .* PhiStep\n",
    "    sizehint!(event, length(event) + resolution)\n",
    "    @inbounds for i in 1:resolution\n",
    "        push!(event, PseudoJet(pt = 0.0001, rap = rap_v[i], phi = phi_v[i]))\n",
    "    end\n",
    "\treturn event\n",
    "end"
   ]
  },
  {
   "cell_type": "code",
   "execution_count": 8,
   "metadata": {},
   "outputs": [
    {
     "ename": "InexactError",
     "evalue": "InexactError: Int64(-0.2878990531546266)",
     "output_type": "error",
     "traceback": [
      "InexactError: Int64(-0.2878990531546266)\n",
      "\n",
      "Stacktrace:\n",
      "  [1] Int64\n",
      "    @ ./float.jl:994 [inlined]\n",
      "  [2] convert\n",
      "    @ ./number.jl:7 [inlined]\n",
      "  [3] setindex!\n",
      "    @ ./array.jl:987 [inlined]\n",
      "  [4] macro expansion\n",
      "    @ ./broadcast.jl:973 [inlined]\n",
      "  [5] macro expansion\n",
      "    @ ./simdloop.jl:77 [inlined]\n",
      "  [6] copyto!\n",
      "    @ ./broadcast.jl:972 [inlined]\n",
      "  [7] copyto!\n",
      "    @ ./broadcast.jl:925 [inlined]\n",
      "  [8] materialize!\n",
      "    @ ./broadcast.jl:883 [inlined]\n",
      "  [9] materialize!\n",
      "    @ ./broadcast.jl:880 [inlined]\n",
      " [10] add_ghosts2(event::Vector{PseudoJet}, resolution::Int64)\n",
      "    @ Main ~/Desktop/jetReconstruction/JetReconstruction.jl/examples/jl_notebook_cell_df34fa98e69747e1a8f8a730347b8e2f_W6sZmlsZQ==.jl:6\n",
      " [11] top-level scope\n",
      "    @ ~/Desktop/jetReconstruction/JetReconstruction.jl/examples/jl_notebook_cell_df34fa98e69747e1a8f8a730347b8e2f_X10sZmlsZQ==.jl:5"
     ]
    }
   ],
   "source": [
    "event = Vector{PseudoJet}()\n",
    "jet1 = PseudoJet(pt = 3, rap = 4, phi = 5, m = 6)\n",
    "push!(event, jet1)\n",
    "\n",
    "add_ghosts2(event, 100)"
   ]
  },
  {
   "cell_type": "code",
   "execution_count": 9,
   "metadata": {},
   "outputs": [
    {
     "ename": "InexactError",
     "evalue": "InexactError: Int64(0.013197735002202338)",
     "output_type": "error",
     "traceback": [
      "InexactError: Int64(0.013197735002202338)\n",
      "\n",
      "Stacktrace:\n",
      "  [1] Int64\n",
      "    @ ./float.jl:994 [inlined]\n",
      "  [2] convert\n",
      "    @ ./number.jl:7 [inlined]\n",
      "  [3] setindex!\n",
      "    @ ./array.jl:987 [inlined]\n",
      "  [4] macro expansion\n",
      "    @ ./broadcast.jl:973 [inlined]\n",
      "  [5] macro expansion\n",
      "    @ ./simdloop.jl:77 [inlined]\n",
      "  [6] copyto!\n",
      "    @ ./broadcast.jl:972 [inlined]\n",
      "  [7] copyto!\n",
      "    @ ./broadcast.jl:925 [inlined]\n",
      "  [8] materialize!\n",
      "    @ ./broadcast.jl:883 [inlined]\n",
      "  [9] materialize!\n",
      "    @ ./broadcast.jl:880 [inlined]\n",
      " [10] add_ghosts2(event::Vector{PseudoJet}, resolution::Int64)\n",
      "    @ Main ~/Desktop/jetReconstruction/JetReconstruction.jl/examples/jl_notebook_cell_df34fa98e69747e1a8f8a730347b8e2f_W6sZmlsZQ==.jl:6\n",
      " [11] var\"##core#237\"(event#236::Vector{PseudoJet})\n",
      "    @ Main ~/.julia/packages/BenchmarkTools/1i1mY/src/execution.jl:598\n",
      " [12] var\"##sample#238\"(::Tuple{Vector{PseudoJet}}, __params::BenchmarkTools.Parameters)\n",
      "    @ Main ~/.julia/packages/BenchmarkTools/1i1mY/src/execution.jl:607\n",
      " [13] _run(b::BenchmarkTools.Benchmark, p::BenchmarkTools.Parameters; verbose::Bool, pad::String, warmup::Bool, kwargs::@Kwargs{})\n",
      "    @ BenchmarkTools ~/.julia/packages/BenchmarkTools/1i1mY/src/execution.jl:113\n",
      " [14] #invokelatest#2\n",
      "    @ ./essentials.jl:1057 [inlined]\n",
      " [15] invokelatest\n",
      "    @ ./essentials.jl:1052 [inlined]\n",
      " [16] #run_result#45\n",
      "    @ ~/.julia/packages/BenchmarkTools/1i1mY/src/execution.jl:48 [inlined]\n",
      " [17] run_result\n",
      "    @ ~/.julia/packages/BenchmarkTools/1i1mY/src/execution.jl:47 [inlined]\n",
      " [18] run(b::BenchmarkTools.Benchmark, p::BenchmarkTools.Parameters; progressid::Nothing, nleaves::Float64, ndone::Float64, kwargs::@Kwargs{warmup::Bool})\n",
      "    @ BenchmarkTools ~/.julia/packages/BenchmarkTools/1i1mY/src/execution.jl:143\n",
      " [19] run\n",
      "    @ ~/.julia/packages/BenchmarkTools/1i1mY/src/execution.jl:135 [inlined]\n",
      " [20] top-level scope\n",
      "    @ ~/.julia/packages/BenchmarkTools/1i1mY/src/execution.jl:462"
     ]
    }
   ],
   "source": [
    "@benchmark add_ghosts2($event, 100) samples = 10000 evals = 10"
   ]
  },
  {
   "cell_type": "code",
   "execution_count": 10,
   "metadata": {},
   "outputs": [
    {
     "data": {
      "text/plain": [
       "add_ghosts3 (generic function with 1 method)"
      ]
     },
     "metadata": {},
     "output_type": "display_data"
    }
   ],
   "source": [
    "function add_ghosts3(event::Vector{PseudoJet}, resolution::Int)\n",
    "\tRapidityStep = 6.28 / resolution\n",
    "    PhiStep = 10 / resolution\n",
    "\n",
    "    rap_v = (0:(resolution - 1)) .+ (rand(resolution) .- 0.5)\n",
    "    rap_v .*= RapidityStep\n",
    "\n",
    "    phi_v = (0:(resolution - 1)) .+ (rand(resolution) .- 0.5)\n",
    "    phi_v .*= PhiStep\n",
    "    \n",
    "    sizehint!(event, length(event) + resolution)\n",
    "    @inbounds for i in 1:resolution\n",
    "        push!(event, PseudoJet(pt = 0.0001, rap = rap_v[i], phi = phi_v[i]))\n",
    "    end\n",
    "\treturn event\n",
    "end"
   ]
  },
  {
   "cell_type": "code",
   "execution_count": 11,
   "metadata": {},
   "outputs": [
    {
     "data": {
      "text/plain": [
       "101-element Vector{PseudoJet}:\n",
       " PseudoJet(px: 0.8509865563896788 py: -2.8767728239894153 pz: 183.06632985935454 E: 183.1891949001742 cluster_hist_index: 0)\n",
       " PseudoJet(px: 9.999536803516916e-5 py: 9.624819536341598e-7 pz: -2.6836788414564644e-6 E: 0.00010003600417911584 cluster_hist_index: 0)\n",
       " PseudoJet(px: 9.987179113487245e-5 py: 5.06214732227475e-6 pz: 6.6855591479408e-6 E: 0.00010022323433775532 cluster_hist_index: 0)\n",
       " PseudoJet(px: 9.755793531976915e-5 py: 2.1964727545402008e-5 pz: 9.873187701618773e-6 E: 0.00010048621714141395 cluster_hist_index: 0)\n",
       " PseudoJet(px: 9.675673064481483e-5 py: 2.5261335572901817e-5 pz: 1.652499567997909e-5 E: 0.00010135618127289193 cluster_hist_index: 0)\n",
       " PseudoJet(px: 9.065455046516269e-5 py: 4.2210809989376824e-5 pz: 2.3127148669855944e-5 E: 0.00010263949047806901 cluster_hist_index: 0)\n",
       " PseudoJet(px: 8.690141022058653e-5 py: 4.947873181148988e-5 pz: 2.9911109367919423e-5 E: 0.00010437755727942495 cluster_hist_index: 0)\n",
       " PseudoJet(px: 8.266064455635645e-5 py: 5.627804049118716e-5 pz: 3.801933042653907e-5 E: 0.00010698350099937074 cluster_hist_index: 0)\n",
       " PseudoJet(px: 7.650050815235352e-5 py: 6.440242427449215e-5 pz: 4.531122874353162e-5 E: 0.0001097866451361396 cluster_hist_index: 0)\n",
       " PseudoJet(px: 7.257844862493106e-5 py: 6.879221464088973e-5 pz: 4.9059974219474236e-5 E: 0.00011138617988967697 cluster_hist_index: 0)\n",
       " ⋮\n",
       " PseudoJet(px: -9.490630644481213e-5 py: 3.150861782121538e-5 pz: 0.01473795342604324 E: 0.014738292682268856 cluster_hist_index: 0)\n",
       " PseudoJet(px: -9.825732805327449e-5 py: 1.8587562611359248e-5 pz: 0.015970697418485755 E: 0.015971010488783344 cluster_hist_index: 0)\n",
       " PseudoJet(px: -9.910880070359123e-5 py: 1.332087170930779e-5 pz: 0.017059330289040248 E: 0.017059623381263905 cluster_hist_index: 0)\n",
       " PseudoJet(px: -9.994629449132994e-5 py: 3.2769219478575053e-6 pz: 0.018611911492974715 E: 0.018612180136199096 cluster_hist_index: 0)\n",
       " PseudoJet(px: -9.931325191975446e-5 py: -1.169948687436289e-5 pz: 0.01989223869469165 E: 0.019892490047417083 cluster_hist_index: 0)\n",
       " PseudoJet(px: -9.884417731410474e-5 py: -1.5160099310288878e-5 pz: 0.0213334263649217 E: 0.021333660737612198 cluster_hist_index: 0)\n",
       " PseudoJet(px: -9.56481593537584e-5 py: -2.9179266821461447e-5 pz: 0.021861395253635653 E: 0.02186162396611202 cluster_hist_index: 0)\n",
       " PseudoJet(px: -9.257015894546676e-5 py: -3.78254632861386e-5 pz: 0.023996897289302037 E: 0.02399710564866754 cluster_hist_index: 0)\n",
       " PseudoJet(px: -8.741663458330152e-5 py: -4.8562660533886885e-5 pz: 0.024839444209825066 E: 0.02483964550175811 cluster_hist_index: 0)"
      ]
     },
     "metadata": {},
     "output_type": "display_data"
    }
   ],
   "source": [
    "event = Vector{PseudoJet}()\n",
    "jet1 = PseudoJet(pt = 3, rap = 4, phi = 5, m = 6)\n",
    "push!(event, jet1)\n",
    "\n",
    "add_ghosts3(event, 100)"
   ]
  },
  {
   "cell_type": "code",
   "execution_count": 12,
   "metadata": {},
   "outputs": [
    {
     "data": {
      "text/plain": [
       "BenchmarkTools.Trial: 460 samples with 10 evaluations per sample.\n",
       " Range \u001b[90m(\u001b[39m\u001b[36m\u001b[1mmin\u001b[22m\u001b[39m … \u001b[35mmax\u001b[39m\u001b[90m):  \u001b[39m\u001b[36m\u001b[1m  4.388 μs\u001b[22m\u001b[39m … \u001b[35m  2.583 ms\u001b[39m  \u001b[90m┊\u001b[39m GC \u001b[90m(\u001b[39mmin … max\u001b[90m): \u001b[39m 0.00% … 29.02%\n",
       " Time  \u001b[90m(\u001b[39m\u001b[34m\u001b[1mmedian\u001b[22m\u001b[39m\u001b[90m):     \u001b[39m\u001b[34m\u001b[1m959.567 μs               \u001b[22m\u001b[39m\u001b[90m┊\u001b[39m GC \u001b[90m(\u001b[39mmedian\u001b[90m):    \u001b[39m28.37%\n",
       " Time  \u001b[90m(\u001b[39m\u001b[32m\u001b[1mmean\u001b[22m\u001b[39m ± \u001b[32mσ\u001b[39m\u001b[90m):   \u001b[39m\u001b[32m\u001b[1m  1.091 ms\u001b[22m\u001b[39m ± \u001b[32m649.294 μs\u001b[39m  \u001b[90m┊\u001b[39m GC \u001b[90m(\u001b[39mmean ± σ\u001b[90m):  \u001b[39m29.08% ±  9.45%\n",
       "\n",
       "  \u001b[39m \u001b[39m▂\u001b[39m \u001b[39m \u001b[39m \u001b[39m \u001b[39m \u001b[39m \u001b[39m \u001b[39m \u001b[39m \u001b[39m \u001b[39m \u001b[39m \u001b[39m \u001b[39m \u001b[39m▁\u001b[39m▂\u001b[39m█\u001b[39m \u001b[39m \u001b[39m \u001b[39m \u001b[39m▃\u001b[39m▇\u001b[34m▁\u001b[39m\u001b[39m▄\u001b[39m▁\u001b[39m \u001b[32m▅\u001b[39m\u001b[39m▂\u001b[39m \u001b[39m \u001b[39m \u001b[39m \u001b[39m \u001b[39m \u001b[39m \u001b[39m \u001b[39m \u001b[39m \u001b[39m \u001b[39m \u001b[39m \u001b[39m▁\u001b[39m▁\u001b[39m \u001b[39m \u001b[39m \u001b[39m \u001b[39m \u001b[39m \u001b[39m \u001b[39m \u001b[39m \u001b[39m \u001b[39m \u001b[39m▁\u001b[39m \u001b[39m \u001b[39m \u001b[39m \u001b[39m \n",
       "  \u001b[39m▆\u001b[39m█\u001b[39m▃\u001b[39m▃\u001b[39m▄\u001b[39m▅\u001b[39m▅\u001b[39m▆\u001b[39m▇\u001b[39m▅\u001b[39m▇\u001b[39m▅\u001b[39m█\u001b[39m▄\u001b[39m▇\u001b[39m█\u001b[39m█\u001b[39m█\u001b[39m█\u001b[39m▅\u001b[39m▆\u001b[39m▃\u001b[39m▅\u001b[39m█\u001b[39m█\u001b[34m█\u001b[39m\u001b[39m█\u001b[39m█\u001b[39m▆\u001b[32m█\u001b[39m\u001b[39m█\u001b[39m▅\u001b[39m▃\u001b[39m▃\u001b[39m▁\u001b[39m▁\u001b[39m▁\u001b[39m▃\u001b[39m▃\u001b[39m▁\u001b[39m▃\u001b[39m▁\u001b[39m▁\u001b[39m▄\u001b[39m█\u001b[39m█\u001b[39m▆\u001b[39m█\u001b[39m▆\u001b[39m█\u001b[39m▅\u001b[39m█\u001b[39m▅\u001b[39m▅\u001b[39m▅\u001b[39m▅\u001b[39m▅\u001b[39m█\u001b[39m▅\u001b[39m▄\u001b[39m▄\u001b[39m \u001b[39m▄\n",
       "  4.39 μs\u001b[90m          Histogram: frequency by time\u001b[39m         2.31 ms \u001b[0m\u001b[1m<\u001b[22m\n",
       "\n",
       " Memory estimate\u001b[90m: \u001b[39m\u001b[33m105.01 KiB\u001b[39m, allocs estimate\u001b[90m: \u001b[39m\u001b[33m10\u001b[39m."
      ]
     },
     "metadata": {},
     "output_type": "display_data"
    }
   ],
   "source": [
    "@benchmark add_ghosts3($event, 100) samples = 10000 evals = 10"
   ]
  },
  {
   "cell_type": "code",
   "execution_count": 13,
   "metadata": {},
   "outputs": [
    {
     "data": {
      "text/plain": [
       "add_ghosts4! (generic function with 1 method)"
      ]
     },
     "metadata": {},
     "output_type": "display_data"
    }
   ],
   "source": [
    "function add_ghosts4!(event::Vector{PseudoJet}, resolution::Int)\n",
    "    RapidityStep = 6.28 / resolution\n",
    "    PhiStep = 10 / resolution\n",
    "\n",
    "    total_new = resolution * resolution\n",
    "    sizehint!(event, length(event) + total_new)\n",
    "\n",
    "    @inbounds for i in 0:(resolution - 1)\n",
    "        for j in 0:(resolution - 1)\n",
    "            push!(event, PseudoJet(\n",
    "                0.00001,\n",
    "                (i + (rand() - 0.5)) * RapidityStep,\n",
    "                (j + (rand() - 0.5)) * PhiStep,\n",
    "                0.0\n",
    "            ))\n",
    "        end\n",
    "    end\n",
    "\n",
    "    return event\n",
    "end"
   ]
  },
  {
   "cell_type": "code",
   "execution_count": 14,
   "metadata": {},
   "outputs": [
    {
     "data": {
      "text/plain": [
       "10001-element Vector{PseudoJet}:\n",
       " PseudoJet(px: 0.8509865563896788 py: -2.8767728239894153 pz: 183.06632985935454 E: 183.1891949001742 cluster_hist_index: 0)\n",
       " PseudoJet(px: 1.0e-5 py: -0.00048106521372813564 pz: 0.011130871500727469 E: 0.0 cluster_hist_index: 0)\n",
       " PseudoJet(px: 1.0e-5 py: 0.026737305008966573 pz: 0.051688719162421404 E: 0.0 cluster_hist_index: 0)\n",
       " PseudoJet(px: 1.0e-5 py: -0.006494591917994295 pz: 0.16090029803116956 E: 0.0 cluster_hist_index: 0)\n",
       " PseudoJet(px: 1.0e-5 py: 0.02440852198889126 pz: 0.2878216279020253 E: 0.0 cluster_hist_index: 0)\n",
       " PseudoJet(px: 1.0e-5 py: 0.02295844444693159 pz: 0.44288242170648434 E: 0.0 cluster_hist_index: 0)\n",
       " PseudoJet(px: 1.0e-5 py: -0.02477799607685918 pz: 0.5406884314556207 E: 0.0 cluster_hist_index: 0)\n",
       " PseudoJet(px: 1.0e-5 py: -0.027465337551530678 pz: 0.5733188651094654 E: 0.0 cluster_hist_index: 0)\n",
       " PseudoJet(px: 1.0e-5 py: -0.01810239849809993 pz: 0.7427644067977317 E: 0.0 cluster_hist_index: 0)\n",
       " PseudoJet(px: 1.0e-5 py: -0.022937248022497667 pz: 0.822853016751148 E: 0.0 cluster_hist_index: 0)\n",
       " ⋮\n",
       " PseudoJet(px: 1.0e-5 py: 6.22443770588294 pz: 9.105937350889494 E: 0.0 cluster_hist_index: 0)\n",
       " PseudoJet(px: 1.0e-5 py: 6.226348161080699 pz: 9.223983860968342 E: 0.0 cluster_hist_index: 0)\n",
       " PseudoJet(px: 1.0e-5 py: 6.244425066057019 pz: 9.281303440281414 E: 0.0 cluster_hist_index: 0)\n",
       " PseudoJet(px: 1.0e-5 py: 6.220873706024692 pz: 9.38532858802678 E: 0.0 cluster_hist_index: 0)\n",
       " PseudoJet(px: 1.0e-5 py: 6.2291040944708245 pz: 9.460199422341972 E: 0.0 cluster_hist_index: 0)\n",
       " PseudoJet(px: 1.0e-5 py: 6.190578228817773 pz: 9.638555966106965 E: 0.0 cluster_hist_index: 0)\n",
       " PseudoJet(px: 1.0e-5 py: 6.242588473183357 pz: 9.6747939842 E: 0.0 cluster_hist_index: 0)\n",
       " PseudoJet(px: 1.0e-5 py: 6.215283755724442 pz: 9.820546305568735 E: 0.0 cluster_hist_index: 0)\n",
       " PseudoJet(px: 1.0e-5 py: 6.240374079639711 pz: 9.927385393357998 E: 0.0 cluster_hist_index: 0)"
      ]
     },
     "metadata": {},
     "output_type": "display_data"
    }
   ],
   "source": [
    "event = Vector{PseudoJet}()\n",
    "jet1 = PseudoJet(pt = 3, rap = 4, phi = 5, m = 6)\n",
    "push!(event, jet1)\n",
    "\n",
    "add_ghosts4!(event, 100)"
   ]
  },
  {
   "cell_type": "code",
   "execution_count": null,
   "metadata": {},
   "outputs": [],
   "source": [
    "@benchmark add_ghosts4!($event, 100) samples = 10000 evals = 10"
   ]
  },
  {
   "cell_type": "code",
   "execution_count": null,
   "metadata": {},
   "outputs": [],
   "source": [
    "function add_ghosts_fast!(event::Vector{PseudoJet}, resolution::Int)\n",
    "    n_ghosts = resolution * resolution\n",
    "    n_original = length(event)\n",
    "    \n",
    "    # Single resize\n",
    "    resize!(event, n_original + n_ghosts)\n",
    "    \n",
    "    RapidityStep = Float32(6.28 / resolution)\n",
    "    PhiStep = Float32(10.0 / resolution)\n",
    "    \n",
    "    # For resolution=100, pre-generating 20k random numbers is fast\n",
    "    rand_vals = rand(Float32, 2 * n_ghosts) .- 0.5f0\n",
    "    \n",
    "    # Unroll the pattern computation\n",
    "    @inbounds for k in 0:(n_ghosts - 1)\n",
    "        i = k ÷ resolution\n",
    "        j = k % resolution\n",
    "        rand_idx = 2k + 1\n",
    "        \n",
    "        Rap = (i + rand_vals[rand_idx]) * RapidityStep\n",
    "        Phi = (j + rand_vals[rand_idx + 1]) * PhiStep\n",
    "        \n",
    "        event[n_original + k + 1] = PseudoJet(0, Rap, Phi, 0)\n",
    "    end\n",
    "    \n",
    "    nothing\n",
    "end"
   ]
  },
  {
   "cell_type": "code",
   "execution_count": 16,
   "metadata": {},
   "outputs": [],
   "source": [
    "event = Vector{PseudoJet}()\n",
    "jet1 = PseudoJet(pt = 3, rap = 4, phi = 5, m = 6)\n",
    "push!(event, jet1)\n",
    "\n",
    "add_ghosts_fast!(event, 100)"
   ]
  },
  {
   "cell_type": "code",
   "execution_count": null,
   "metadata": {},
   "outputs": [],
   "source": [
    "@benchmark add_ghosts4!($event, 100) samples = 10000 evals = 10"
   ]
  },
  {
   "cell_type": "code",
   "execution_count": 1,
   "metadata": {},
   "outputs": [
    {
     "ename": "UndefVarError",
     "evalue": "UndefVarError: `PseudoJet` not defined in `Main`\nSuggestion: check for spelling errors or missing imports.",
     "output_type": "error",
     "traceback": [
      "UndefVarError: `PseudoJet` not defined in `Main`\n",
      "Suggestion: check for spelling errors or missing imports.\n",
      "\n",
      "Stacktrace:\n",
      " [1] top-level scope\n",
      "   @ ~/Desktop/jetReconstruction/JetReconstruction.jl/examples/jl_notebook_cell_df34fa98e69747e1a8f8a730347b8e2f_X24sZmlsZQ==.jl:15"
     ]
    }
   ],
   "source": [
    "struct GhostGenerator\n",
    "    resolution::Int\n",
    "    n_ghosts::Int\n",
    "    RapidityStep::Float32\n",
    "    PhiStep::Float32\n",
    "    \n",
    "    function GhostGenerator(resolution::Int)\n",
    "        new(resolution, \n",
    "            resolution * resolution,\n",
    "            Float32(6.28 / resolution),\n",
    "            Float32(10.0 / resolution))\n",
    "    end\n",
    "end\n",
    "\n",
    "function add_ghosts_cached!(event::Vector{PseudoJet}, gen::GhostGenerator)\n",
    "    n_original = length(event)\n",
    "    resize!(event, n_original + gen.n_ghosts)\n",
    "    \n",
    "    # Generate random values\n",
    "    rand_vals = rand(Float32, 2 * gen.n_ghosts) .- 0.5f0\n",
    "    \n",
    "    @inbounds for k in 0:(gen.n_ghosts - 1)\n",
    "        i = k ÷ gen.resolution\n",
    "        j = k % gen.resolution\n",
    "        rand_idx = 2k + 1\n",
    "        \n",
    "        Rap = (i + rand_vals[rand_idx]) * gen.RapidityStep\n",
    "        Phi = (j + rand_vals[rand_idx + 1]) * gen.PhiStep\n",
    "        \n",
    "        event[n_original + k + 1] = PseudoJet(pt = 0, rap = Rap, phi = Phi, m = 0)\n",
    "    end\n",
    "    \n",
    "    nothing\n",
    "end"
   ]
  },
  {
   "cell_type": "code",
   "execution_count": 16,
   "metadata": {},
   "outputs": [],
   "source": [
    "event = Vector{PseudoJet}()\n",
    "jet1 = PseudoJet(pt = 3, rap = 4, phi = 5, m = 6)\n",
    "push!(event, jet1)\n",
    "\n",
    "gen= GhostGenerator(100)\n",
    "add_ghosts_cached!(event, gen)"
   ]
  },
  {
   "cell_type": "code",
   "execution_count": 17,
   "metadata": {},
   "outputs": [
    {
     "data": {
      "text/plain": [
       "BenchmarkTools.Trial: 1336 samples with 10 evaluations per sample.\n",
       " Range \u001b[90m(\u001b[39m\u001b[36m\u001b[1mmin\u001b[22m\u001b[39m … \u001b[35mmax\u001b[39m\u001b[90m):  \u001b[39m\u001b[36m\u001b[1m182.908 μs\u001b[22m\u001b[39m … \u001b[35m82.685 ms\u001b[39m  \u001b[90m┊\u001b[39m GC \u001b[90m(\u001b[39mmin … max\u001b[90m): \u001b[39m0.00% … 1.11%\n",
       " Time  \u001b[90m(\u001b[39m\u001b[34m\u001b[1mmedian\u001b[22m\u001b[39m\u001b[90m):     \u001b[39m\u001b[34m\u001b[1m202.825 μs              \u001b[22m\u001b[39m\u001b[90m┊\u001b[39m GC \u001b[90m(\u001b[39mmedian\u001b[90m):    \u001b[39m0.00%\n",
       " Time  \u001b[90m(\u001b[39m\u001b[32m\u001b[1mmean\u001b[22m\u001b[39m ± \u001b[32mσ\u001b[39m\u001b[90m):   \u001b[39m\u001b[32m\u001b[1m434.290 μs\u001b[22m\u001b[39m ± \u001b[32m 3.575 ms\u001b[39m  \u001b[90m┊\u001b[39m GC \u001b[90m(\u001b[39mmean ± σ\u001b[90m):  \u001b[39m9.72% ± 4.40%\n",
       "\n",
       "  \u001b[39m \u001b[39m \u001b[39m \u001b[39m \u001b[39m \u001b[39m▆\u001b[39m▇\u001b[39m█\u001b[39m█\u001b[34m▇\u001b[39m\u001b[39m▆\u001b[39m▁\u001b[39m \u001b[39m \u001b[39m \u001b[39m \u001b[39m \u001b[39m \u001b[39m \u001b[39m \u001b[39m \u001b[39m \u001b[39m \u001b[39m \u001b[39m \u001b[39m \u001b[39m \u001b[39m \u001b[39m \u001b[39m \u001b[39m \u001b[39m \u001b[39m \u001b[39m \u001b[39m \u001b[39m \u001b[39m \u001b[39m \u001b[39m \u001b[39m \u001b[39m \u001b[39m \u001b[39m \u001b[39m \u001b[39m \u001b[39m \u001b[39m \u001b[39m \u001b[39m \u001b[39m \u001b[39m \u001b[39m \u001b[39m \u001b[39m \u001b[39m \u001b[39m \u001b[39m \u001b[39m \u001b[39m \u001b[39m \u001b[39m \u001b[39m \n",
       "  \u001b[39m▂\u001b[39m▂\u001b[39m▂\u001b[39m▃\u001b[39m▄\u001b[39m█\u001b[39m█\u001b[39m█\u001b[39m█\u001b[34m█\u001b[39m\u001b[39m█\u001b[39m█\u001b[39m▇\u001b[39m▆\u001b[39m▅\u001b[39m▄\u001b[39m▄\u001b[39m▃\u001b[39m▄\u001b[39m▃\u001b[39m▃\u001b[39m▂\u001b[39m▃\u001b[39m▃\u001b[39m▂\u001b[39m▂\u001b[39m▂\u001b[39m▂\u001b[39m▂\u001b[39m▁\u001b[39m▂\u001b[39m▂\u001b[39m▁\u001b[39m▁\u001b[39m▁\u001b[39m▁\u001b[39m▂\u001b[39m▂\u001b[39m▂\u001b[39m▂\u001b[39m▁\u001b[39m▁\u001b[39m▂\u001b[39m▁\u001b[39m▁\u001b[39m▁\u001b[39m▁\u001b[39m▁\u001b[39m▁\u001b[39m▁\u001b[39m▁\u001b[39m▁\u001b[39m▂\u001b[39m▁\u001b[39m▁\u001b[39m▁\u001b[39m▁\u001b[39m▁\u001b[39m▁\u001b[39m▂\u001b[39m \u001b[39m▃\n",
       "  183 μs\u001b[90m          Histogram: frequency by time\u001b[39m          314 μs \u001b[0m\u001b[1m<\u001b[22m\n",
       "\n",
       " Memory estimate\u001b[90m: \u001b[39m\u001b[33m192.12 KiB\u001b[39m, allocs estimate\u001b[90m: \u001b[39m\u001b[33m6\u001b[39m."
      ]
     },
     "metadata": {},
     "output_type": "display_data"
    }
   ],
   "source": [
    "@benchmark add_ghosts_cached!($event, $gen) samples = 10000 evals = 10"
   ]
  },
  {
   "cell_type": "code",
   "execution_count": 4,
   "metadata": {},
   "outputs": [
    {
     "data": {
      "text/plain": [
       "add_ghosts! (generic function with 1 method)"
      ]
     },
     "metadata": {},
     "output_type": "display_data"
    }
   ],
   "source": [
    "# defines and stores relevant variables to ghost creation and area calculation\n",
    "struct GhostedArea\n",
    "    resolution::Int\n",
    "    n_ghosts::Int\n",
    "    rapidity_step::Float64\n",
    "    phi_step::Float64\n",
    "    ghost_pt::Float64\n",
    "\n",
    "    # constructor\n",
    "    # default value of ghost_pt set to 1.0e-45 as -45 is the smallest magnitude that doesn't result in the value defaulting to 0\n",
    "    function GhostedArea(resolution::Int)\n",
    "        new(resolution, \n",
    "            resolution * resolution,\n",
    "            Float64(6.28 / resolution),\n",
    "            Float64(10.0 / resolution),\n",
    "            1.0f-45)\n",
    "    end\n",
    "end\n",
    "\n",
    "# sets the pt of ghost particles if default value is not satisfactory\n",
    "# any number with magnitude <-45 will default to 0 due to calculations done in the PseudoJet constructor\n",
    "function set_ghost_pt!(desired_pt::Float64, gen::GhostedArea)\n",
    "    gen.ghost_pt = desired_pt\n",
    "end\n",
    "\n",
    "# generates and adds ghosts to an event (a set of PseudoJets)\n",
    "function add_ghosts!(event::Vector{PseudoJet}, gen::GhostedArea)\n",
    "    # Set aside memory for output\n",
    "    n_original = length(event)\n",
    "    resize!(event, n_original + gen.n_ghosts)\n",
    "    \n",
    "    # Generate random values\n",
    "    rand_vals = rand(Float64, 2 * gen.n_ghosts) .- 0.5f0\n",
    "    \n",
    "    # loop without array bounds checking in order to maximize time efficiency\n",
    "    @inbounds for k in 0:(gen.n_ghosts - 1)\n",
    "        i = k ÷ gen.resolution\n",
    "        # modular division means j cycles through 0-99 100 times (acts like an inner loop)\n",
    "        j = k % gen.resolution\n",
    "        # index to iterate through the random values\n",
    "        index = 2k + 1\n",
    "        \n",
    "        rap = (i + rand_vals[index]) * gen.rapidity_step\n",
    "        phi = (j + rand_vals[index + 1]) * gen.phi_step\n",
    "        \n",
    "        # k + 1 is due to indexing beginning at 1 in julia\n",
    "        event[n_original + k + 1] = PseudoJet(pt = gen.ghost_pt, rap = rap, phi = phi)\n",
    "    end\n",
    "    \n",
    "    return event\n",
    "end"
   ]
  },
  {
   "cell_type": "code",
   "execution_count": 5,
   "metadata": {},
   "outputs": [
    {
     "data": {
      "text/plain": [
       "10001-element Vector{PseudoJet}:\n",
       " PseudoJet(px: 0.8509865563896788 py: -2.8767728239894153 pz: 183.06632985935454 E: 183.1891949001742 cluster_hist_index: 0)\n",
       " PseudoJet(px: 1.4011387188676278e-45 py: 2.1158369716810633e-47 pz: 1.51613702968595e-47 E: 1.4013804812642317e-45 cluster_hist_index: 0)\n",
       " PseudoJet(px: 1.399494515161843e-45 py: 7.108085643131121e-47 pz: -2.344736734818647e-47 E: 1.4014946183109842e-45 cluster_hist_index: 0)\n",
       " PseudoJet(px: 1.3825693651726233e-45 py: 2.283403963499667e-46 pz: -2.8322867726734773e-47 E: 1.4015846642123896e-45 cluster_hist_index: 0)\n",
       " PseudoJet(px: 1.347944885943696e-45 py: 3.829908230980567e-46 pz: 2.6825334095121855e-47 E: 1.4015552021481015e-45 cluster_hist_index: 0)\n",
       " PseudoJet(px: 1.3048565003204208e-45 py: 5.1086876953933504e-46 pz: -1.0388454392864409e-47 E: 1.4013369709330314e-45 cluster_hist_index: 0)\n",
       " PseudoJet(px: 1.2539459942976371e-45 py: 6.2550525937357294e-46 pz: -4.112207681821477e-48 E: 1.401304498091371e-45 cluster_hist_index: 0)\n",
       " PseudoJet(px: 1.193265232981405e-45 py: 7.346805223203647e-46 pz: -3.9025349864702026e-47 E: 1.4018417756833876e-45 cluster_hist_index: 0)\n",
       " PseudoJet(px: 1.0935310811910844e-45 py: 8.762574739128611e-46 pz: 2.4931430688215834e-47 E: 1.4015202325886174e-45 cluster_hist_index: 0)\n",
       " PseudoJet(px: 9.794610281661317e-46 py: 1.0021444408980348e-45 pz: 6.546381194421255e-48 E: 1.4013137554544426e-45 cluster_hist_index: 0)\n",
       " ⋮\n",
       " PseudoJet(px: -1.331746563810839e-45 py: 4.359913713562613e-46 pz: 3.543393144014861e-43 E: 3.543420852338899e-43 cluster_hist_index: 0)\n",
       " PseudoJet(px: -1.356585868618295e-45 py: 3.511583221059082e-46 pz: 3.4508753392242607e-43 E: 3.4509037904011133e-43 cluster_hist_index: 0)\n",
       " PseudoJet(px: -1.3940059202745935e-45 py: 1.427756294276935e-46 pz: 3.5698356863151714e-43 E: 3.5698631893992694e-43 cluster_hist_index: 0)\n",
       " PseudoJet(px: -1.3986294058162788e-45 py: 8.644750606636172e-47 pz: 3.5303807922993516e-43 E: 3.5304086027505103e-43 cluster_hist_index: 0)\n",
       " PseudoJet(px: -1.4002627106529775e-45 py: -5.386768301928921e-47 pz: 3.4087088462283196e-43 E: 3.408737649349655e-43 cluster_hist_index: 0)\n",
       " PseudoJet(px: -1.3870920353227812e-45 py: -1.9903032850094753e-46 pz: 3.435146371806842e-43 E: 3.4351749532558486e-43 cluster_hist_index: 0)\n",
       " PseudoJet(px: -1.3510287417501195e-45 py: -3.719660267876347e-46 pz: 3.5405915045578856e-43 E: 3.54061923480711e-43 cluster_hist_index: 0)\n",
       " PseudoJet(px: -1.2884370397400683e-45 py: -5.509694916644118e-46 pz: 3.607026412160354e-43 E: 3.6070536316723934e-43 cluster_hist_index: 0)\n",
       " PseudoJet(px: -1.2594304527210392e-45 py: -6.143877610092579e-46 pz: 3.4851624759282063e-43 E: 3.4851906472037702e-43 cluster_hist_index: 0)"
      ]
     },
     "metadata": {},
     "output_type": "display_data"
    }
   ],
   "source": [
    "event = Vector{PseudoJet}()\n",
    "jet1 = PseudoJet(pt = 3, rap = 4, phi = 5, m = 6)\n",
    "push!(event, jet1)\n",
    "\n",
    "gen = GhostedArea(100)\n",
    "add_ghosts!(event, gen)"
   ]
  },
  {
   "cell_type": "code",
   "execution_count": 6,
   "metadata": {},
   "outputs": [
    {
     "data": {
      "text/plain": [
       "BenchmarkTools.Trial: 1336 samples with 10 evaluations per sample.\n",
       " Range \u001b[90m(\u001b[39m\u001b[36m\u001b[1mmin\u001b[22m\u001b[39m … \u001b[35mmax\u001b[39m\u001b[90m):  \u001b[39m\u001b[36m\u001b[1m173.012 μs\u001b[22m\u001b[39m … \u001b[35m113.245 ms\u001b[39m  \u001b[90m┊\u001b[39m GC \u001b[90m(\u001b[39mmin … max\u001b[90m): \u001b[39m 0.00% … 21.67%\n",
       " Time  \u001b[90m(\u001b[39m\u001b[34m\u001b[1mmedian\u001b[22m\u001b[39m\u001b[90m):     \u001b[39m\u001b[34m\u001b[1m188.548 μs               \u001b[22m\u001b[39m\u001b[90m┊\u001b[39m GC \u001b[90m(\u001b[39mmedian\u001b[90m):    \u001b[39m 0.00%\n",
       " Time  \u001b[90m(\u001b[39m\u001b[32m\u001b[1mmean\u001b[22m\u001b[39m ± \u001b[32mσ\u001b[39m\u001b[90m):   \u001b[39m\u001b[32m\u001b[1m438.918 μs\u001b[22m\u001b[39m ± \u001b[32m  3.838 ms\u001b[39m  \u001b[90m┊\u001b[39m GC \u001b[90m(\u001b[39mmean ± σ\u001b[90m):  \u001b[39m15.26% ±  8.07%\n",
       "\n",
       "  \u001b[34m█\u001b[39m\u001b[39m \u001b[39m \u001b[39m \u001b[39m \u001b[39m \u001b[39m \u001b[32m \u001b[39m\u001b[39m \u001b[39m \u001b[39m \u001b[39m \u001b[39m \u001b[39m \u001b[39m \u001b[39m \u001b[39m \u001b[39m \u001b[39m \u001b[39m \u001b[39m \u001b[39m \u001b[39m \u001b[39m \u001b[39m \u001b[39m \u001b[39m \u001b[39m \u001b[39m \u001b[39m \u001b[39m \u001b[39m \u001b[39m \u001b[39m \u001b[39m \u001b[39m \u001b[39m \u001b[39m \u001b[39m \u001b[39m \u001b[39m \u001b[39m \u001b[39m \u001b[39m \u001b[39m \u001b[39m \u001b[39m \u001b[39m \u001b[39m \u001b[39m \u001b[39m \u001b[39m \u001b[39m \u001b[39m \u001b[39m \u001b[39m \u001b[39m \u001b[39m \u001b[39m \u001b[39m \u001b[39m \u001b[39m \u001b[39m \n",
       "  \u001b[34m█\u001b[39m\u001b[39m▆\u001b[39m▅\u001b[39m▃\u001b[39m▁\u001b[39m▁\u001b[39m▁\u001b[32m▁\u001b[39m\u001b[39m▁\u001b[39m▁\u001b[39m▄\u001b[39m▁\u001b[39m▃\u001b[39m▃\u001b[39m▁\u001b[39m▁\u001b[39m▃\u001b[39m▁\u001b[39m▁\u001b[39m▁\u001b[39m▁\u001b[39m▁\u001b[39m▁\u001b[39m▁\u001b[39m▃\u001b[39m▁\u001b[39m▁\u001b[39m▁\u001b[39m▁\u001b[39m▁\u001b[39m▁\u001b[39m▁\u001b[39m▁\u001b[39m▁\u001b[39m▁\u001b[39m▁\u001b[39m▁\u001b[39m▁\u001b[39m▁\u001b[39m▁\u001b[39m▁\u001b[39m▁\u001b[39m▁\u001b[39m▃\u001b[39m▁\u001b[39m▁\u001b[39m▁\u001b[39m▁\u001b[39m▃\u001b[39m▁\u001b[39m▁\u001b[39m▁\u001b[39m▁\u001b[39m▁\u001b[39m▁\u001b[39m▁\u001b[39m▁\u001b[39m▁\u001b[39m▁\u001b[39m▁\u001b[39m▃\u001b[39m \u001b[39m▇\n",
       "  173 μs\u001b[90m        \u001b[39m\u001b[90mHistogram: \u001b[39m\u001b[90m\u001b[1mlog(\u001b[22m\u001b[39m\u001b[90mfrequency\u001b[39m\u001b[90m\u001b[1m)\u001b[22m\u001b[39m\u001b[90m by time\u001b[39m        2.4 ms \u001b[0m\u001b[1m<\u001b[22m\n",
       "\n",
       " Memory estimate\u001b[90m: \u001b[39m\u001b[33m320.12 KiB\u001b[39m, allocs estimate\u001b[90m: \u001b[39m\u001b[33m6\u001b[39m."
      ]
     },
     "metadata": {},
     "output_type": "display_data"
    }
   ],
   "source": [
    "@benchmark add_ghosts!($event, $gen) samples = 10000 evals = 10"
   ]
  }
 ],
 "metadata": {
  "kernelspec": {
   "display_name": "Julia 1.11.5",
   "language": "julia",
   "name": "julia-1.11"
  },
  "language_info": {
   "file_extension": ".jl",
   "mimetype": "application/julia",
   "name": "julia",
   "version": "1.11.5"
  }
 },
 "nbformat": 4,
 "nbformat_minor": 2
}
